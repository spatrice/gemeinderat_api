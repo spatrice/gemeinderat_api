{
 "cells": [
  {
   "cell_type": "markdown",
   "metadata": {},
   "source": [
    "# Analyse der Abwesenheiten in Gemeinderatssitzungen"
   ]
  },
  {
   "cell_type": "code",
   "execution_count": 328,
   "metadata": {},
   "outputs": [],
   "source": [
    "import requests\n",
    "import pandas as pd\n",
    "import time \n",
    "import datetime\n",
    "from datetime import timedelta\n",
    "import glob\n",
    "import re\n",
    "import PyPDF2"
   ]
  },
  {
   "cell_type": "code",
   "execution_count": 329,
   "metadata": {},
   "outputs": [
    {
     "name": "stdout",
     "output_type": "stream",
     "text": [
      "397 wurden in diesem Zeitraum gefunden\n"
     ]
    }
   ],
   "source": [
    "#Erstelle Start und Endpunkte für Suche\n",
    "today = datetime.datetime.today().strftime('%d.%m.%Y')\n",
    "#start = '07.05.2014'\n",
    "#end = '15.05.2018'\n",
    "#start = '16.05.2018'\n",
    "#end = today\n",
    "#Zapfe die Gemeinderat API an\n",
    "url_protokolle = 'https://www.gemeinderat-zuerich.ch/api/Protokoll?datumVon='+start+'&datumBis='+end\n",
    "response = requests.get(url_protokolle)\n",
    "protokolle = response.json()\n",
    "print(len(protokolle), 'wurden in diesem Zeitraum gefunden')"
   ]
  },
  {
   "cell_type": "code",
   "execution_count": 330,
   "metadata": {},
   "outputs": [],
   "source": [
    "#Um die Protokolle herunterzuladen\n",
    "for protokoll in protokolle:\n",
    "    url = 'https://www.gemeinderat-zuerich.ch/DocumentLoader.aspx?Typ=protokoll&ID='+str(protokoll['Id'])+'&FileName='+protokoll['FileName']\n",
    "    r = requests.get(url, allow_redirects=True)\n",
    "    open('protokolle/'+protokoll['FileName'], 'wb').write(r.content)"
   ]
  },
  {
   "cell_type": "code",
   "execution_count": 331,
   "metadata": {
    "scrolled": true
   },
   "outputs": [
    {
     "name": "stderr",
     "output_type": "stream",
     "text": [
      "PdfReadWarning: Xref table not zero-indexed. ID numbers for objects will be corrected. [pdf.py:1736]\n"
     ]
    },
    {
     "data": {
      "text/html": [
       "<div>\n",
       "<style scoped>\n",
       "    .dataframe tbody tr th:only-of-type {\n",
       "        vertical-align: middle;\n",
       "    }\n",
       "\n",
       "    .dataframe tbody tr th {\n",
       "        vertical-align: top;\n",
       "    }\n",
       "\n",
       "    .dataframe thead th {\n",
       "        text-align: right;\n",
       "    }\n",
       "</style>\n",
       "<table border=\"1\" class=\"dataframe\">\n",
       "  <thead>\n",
       "    <tr style=\"text-align: right;\">\n",
       "      <th></th>\n",
       "      <th>file</th>\n",
       "      <th>anwesend</th>\n",
       "      <th>abwesende</th>\n",
       "    </tr>\n",
       "  </thead>\n",
       "  <tbody>\n",
       "    <tr>\n",
       "      <th>0</th>\n",
       "      <td>protokolle/GR-Protokoll 20180418.199.pdf</td>\n",
       "      <td>123</td>\n",
       "      <td>Alexander Brunner (FDP), Kurt Hüssy (SVP)</td>\n",
       "    </tr>\n",
       "    <tr>\n",
       "      <th>1</th>\n",
       "      <td>protokolle/GR-Protokoll 20180411.198.pdf</td>\n",
       "      <td>123</td>\n",
       "      <td>Kurt Hüssy (SVP), Raphaël Tschanz (FDP)</td>\n",
       "    </tr>\n",
       "    <tr>\n",
       "      <th>2</th>\n",
       "      <td>protokolle/GR-Protokoll 20180404.197.pdf</td>\n",
       "      <td>118</td>\n",
       "      <td>Samuel Balsiger (SVP), Urs Helfenstein (SP), K...</td>\n",
       "    </tr>\n",
       "    <tr>\n",
       "      <th>3</th>\n",
       "      <td>protokolle/GR-Protokoll 20180328.196.pdf</td>\n",
       "      <td>123</td>\n",
       "      <td>Kurt Hüssy (SVP), Thomas Schwendener (SVP)</td>\n",
       "    </tr>\n",
       "    <tr>\n",
       "      <th>4</th>\n",
       "      <td>protokolle/GR-Protokoll 20180321.195.pdf</td>\n",
       "      <td>120</td>\n",
       "      <td>Markus Baumann (GLP), Kurt Hüssy (SVP), Andrea...</td>\n",
       "    </tr>\n",
       "  </tbody>\n",
       "</table>\n",
       "</div>"
      ],
      "text/plain": [
       "                                       file anwesend  \\\n",
       "0  protokolle/GR-Protokoll 20180418.199.pdf      123   \n",
       "1  protokolle/GR-Protokoll 20180411.198.pdf      123   \n",
       "2  protokolle/GR-Protokoll 20180404.197.pdf      118   \n",
       "3  protokolle/GR-Protokoll 20180328.196.pdf      123   \n",
       "4  protokolle/GR-Protokoll 20180321.195.pdf      120   \n",
       "\n",
       "                                           abwesende  \n",
       "0          Alexander Brunner (FDP), Kurt Hüssy (SVP)  \n",
       "1            Kurt Hüssy (SVP), Raphaël Tschanz (FDP)  \n",
       "2  Samuel Balsiger (SVP), Urs Helfenstein (SP), K...  \n",
       "3         Kurt Hüssy (SVP), Thomas Schwendener (SVP)  \n",
       "4  Markus Baumann (GLP), Kurt Hüssy (SVP), Andrea...  "
      ]
     },
     "execution_count": 331,
     "metadata": {},
     "output_type": "execute_result"
    }
   ],
   "source": [
    "#Um die Protokolle auszuwerten\n",
    "data = []\n",
    "protokolle_count = 0\n",
    "for protokoll in protokolle:\n",
    "    if len(protokoll['FileName'])<=29:\n",
    "        dic = {'file':'',\n",
    "              'anwesend':'',\n",
    "              'abwesende':''}\n",
    "        dic['file'] = 'protokolle/'+protokoll['FileName']\n",
    "        #print(dic['file'])\n",
    "        pdfFileObj = open('protokolle/'+protokoll['FileName'], 'rb')\n",
    "        pdfReader = PyPDF2.PdfFileReader(pdfFileObj)\n",
    "        pageObj = pdfReader.getPage(0)\n",
    "        protokoll = pageObj.extractText()\n",
    "        anwesend = protokoll.strip().replace('\\n', '').split('Anwesend:')[1]\n",
    "        dic['anwesend'] = anwesend.split('Mitglieder')[0].strip().replace('\\n', '')\n",
    "        try:\n",
    "            abwesend = protokoll.replace('\\n', '').split('Abwesend:')[1]\n",
    "        except:\n",
    "            abwesend = \"Der Rat 0\"\n",
    "        dic['abwesende'] = abwesend.split('Der Rat')[0].strip()\n",
    "        data.append(dic)\n",
    "        protokolle_count += 1\n",
    "df = pd.DataFrame(data)\n",
    "df.head()"
   ]
  },
  {
   "cell_type": "code",
   "execution_count": 332,
   "metadata": {},
   "outputs": [],
   "source": [
    "#Vakanzen erkennen\n",
    "df['vakanz'] = df.abwesende.str.extract('(\\d) Sitz[e]* vakant')\n",
    "df['vakanz'][df['vakanz'].isna()] = 0\n",
    "df['vakanz'] = df['vakanz'].astype(int)\n",
    "df['anwesend'] = df['anwesend'].astype(int) \n",
    "df['abwesende_count'] = 125-df['vakanz']-df['anwesend']"
   ]
  },
  {
   "cell_type": "code",
   "execution_count": 333,
   "metadata": {},
   "outputs": [
    {
     "name": "stdout",
     "output_type": "stream",
     "text": [
      "4.0 Räte fehlen im Schnitt. (Start: 07.05.2014 End: 15.05.2018)\n"
     ]
    },
    {
     "data": {
      "image/png": "[encoded data removed]",
      "text/plain": [
       "<Figure size 432x288 with 1 Axes>"
      ]
     },
     "metadata": {
      "needs_background": "light"
     },
     "output_type": "display_data"
    }
   ],
   "source": [
    "df['abwesende_count'].hist()\n",
    "print(round(df['abwesende_count'].median(),1), 'Räte fehlen im Schnitt. (Start: '+start+' End: '+end+')')"
   ]
  },
  {
   "cell_type": "code",
   "execution_count": 334,
   "metadata": {},
   "outputs": [],
   "source": [
    "def get_missing(row):\n",
    "    missinglist = row['abwesende'].split(', ')\n",
    "    return missinglist"
   ]
  },
  {
   "cell_type": "code",
   "execution_count": 351,
   "metadata": {},
   "outputs": [],
   "source": [
    "missings = []\n",
    "for sitzung in df.apply(get_missing, axis=1):\n",
    "    for missing in sitzung:\n",
    "        missings.append(missing)\n",
    "missings = pd.DataFrame(missings)\n",
    "df_missings = missings[0].value_counts().reset_index()"
   ]
  },
  {
   "cell_type": "code",
   "execution_count": 352,
   "metadata": {},
   "outputs": [],
   "source": [
    "df_missings.columns = ['name','count']\n",
    "df_missings['name'] = df_missings['name'].str.replace('-','')\n",
    "df_missings['name'] = df_missings['name'].str.replace(' ','')\n",
    "df_missings['name'] = df_missings['name'].str.replace('Ratspräsident','')\n",
    "df_missings['name'] = df_missings['name'].str.replace('Ratspräsidentin','')\n",
    "df_missings['name'] = df_missings['name'].str.strip()\n"
   ]
  },
  {
   "cell_type": "code",
   "execution_count": 353,
   "metadata": {},
   "outputs": [],
   "source": [
    "df_missings = df_missings.groupby('name').sum().reset_index()"
   ]
  },
  {
   "cell_type": "code",
   "execution_count": 354,
   "metadata": {},
   "outputs": [],
   "source": [
    "df_missings['sitzungen'] = protokolle_count\n",
    "df_missings['share'] = round(df_missings['count']/df_missings['sitzungen']*100,1)\n",
    "df_missings = df_missings.sort_values('count',ascending=False)"
   ]
  },
  {
   "cell_type": "code",
   "execution_count": 355,
   "metadata": {},
   "outputs": [],
   "source": [
    "df_missings['partei'] = df_missings['name'].str.extract('\\((.*)\\)')"
   ]
  },
  {
   "cell_type": "code",
   "execution_count": 356,
   "metadata": {},
   "outputs": [
    {
     "data": {
      "text/html": [
       "<div>\n",
       "<style scoped>\n",
       "    .dataframe tbody tr th:only-of-type {\n",
       "        vertical-align: middle;\n",
       "    }\n",
       "\n",
       "    .dataframe tbody tr th {\n",
       "        vertical-align: top;\n",
       "    }\n",
       "\n",
       "    .dataframe thead th {\n",
       "        text-align: right;\n",
       "    }\n",
       "</style>\n",
       "<table border=\"1\" class=\"dataframe\">\n",
       "  <thead>\n",
       "    <tr style=\"text-align: right;\">\n",
       "      <th></th>\n",
       "      <th>name</th>\n",
       "      <th>count</th>\n",
       "      <th>sitzungen</th>\n",
       "      <th>share</th>\n",
       "      <th>partei</th>\n",
       "    </tr>\n",
       "  </thead>\n",
       "  <tbody>\n",
       "    <tr>\n",
       "      <th>41</th>\n",
       "      <td>GuidoHüni(GLP)</td>\n",
       "      <td>35</td>\n",
       "      <td>200</td>\n",
       "      <td>17.5</td>\n",
       "      <td>GLP</td>\n",
       "    </tr>\n",
       "    <tr>\n",
       "      <th>2</th>\n",
       "      <td>AdrianGautschi(GLP)</td>\n",
       "      <td>18</td>\n",
       "      <td>200</td>\n",
       "      <td>9.0</td>\n",
       "      <td>GLP</td>\n",
       "    </tr>\n",
       "    <tr>\n",
       "      <th>73</th>\n",
       "      <td>MartinLuchsinger(GLP)</td>\n",
       "      <td>12</td>\n",
       "      <td>200</td>\n",
       "      <td>6.0</td>\n",
       "      <td>GLP</td>\n",
       "    </tr>\n",
       "    <tr>\n",
       "      <th>42</th>\n",
       "      <td>GuidoTrevisan(GLP)</td>\n",
       "      <td>11</td>\n",
       "      <td>200</td>\n",
       "      <td>5.5</td>\n",
       "      <td>GLP</td>\n",
       "    </tr>\n",
       "    <tr>\n",
       "      <th>106</th>\n",
       "      <td>ShaibalRoy(GLP)</td>\n",
       "      <td>11</td>\n",
       "      <td>200</td>\n",
       "      <td>5.5</td>\n",
       "      <td>GLP</td>\n",
       "    </tr>\n",
       "    <tr>\n",
       "      <th>65</th>\n",
       "      <td>MarkusBaumann(GLP)</td>\n",
       "      <td>8</td>\n",
       "      <td>200</td>\n",
       "      <td>4.0</td>\n",
       "      <td>GLP</td>\n",
       "    </tr>\n",
       "    <tr>\n",
       "      <th>55</th>\n",
       "      <td>MaleicaLandolt(GLP)</td>\n",
       "      <td>8</td>\n",
       "      <td>200</td>\n",
       "      <td>4.0</td>\n",
       "      <td>GLP</td>\n",
       "    </tr>\n",
       "    <tr>\n",
       "      <th>100</th>\n",
       "      <td>RonnySiev(GLP)</td>\n",
       "      <td>5</td>\n",
       "      <td>200</td>\n",
       "      <td>2.5</td>\n",
       "      <td>GLP</td>\n",
       "    </tr>\n",
       "    <tr>\n",
       "      <th>75</th>\n",
       "      <td>MatthiasWiesmann(GLP)</td>\n",
       "      <td>5</td>\n",
       "      <td>200</td>\n",
       "      <td>2.5</td>\n",
       "      <td>GLP</td>\n",
       "    </tr>\n",
       "    <tr>\n",
       "      <th>104</th>\n",
       "      <td>SamuelDubno(GLP)</td>\n",
       "      <td>4</td>\n",
       "      <td>200</td>\n",
       "      <td>2.0</td>\n",
       "      <td>GLP</td>\n",
       "    </tr>\n",
       "    <tr>\n",
       "      <th>88</th>\n",
       "      <td>PirminMeyer(GLP)</td>\n",
       "      <td>3</td>\n",
       "      <td>200</td>\n",
       "      <td>1.5</td>\n",
       "      <td>GLP</td>\n",
       "    </tr>\n",
       "    <tr>\n",
       "      <th>19</th>\n",
       "      <td>CorinaGredig(GLP)</td>\n",
       "      <td>2</td>\n",
       "      <td>200</td>\n",
       "      <td>1.0</td>\n",
       "      <td>GLP</td>\n",
       "    </tr>\n",
       "    <tr>\n",
       "      <th>43</th>\n",
       "      <td>GuyKrayenbühl(GLP)</td>\n",
       "      <td>1</td>\n",
       "      <td>200</td>\n",
       "      <td>0.5</td>\n",
       "      <td>GLP</td>\n",
       "    </tr>\n",
       "    <tr>\n",
       "      <th>112</th>\n",
       "      <td>SvenSobernheim(GLP)</td>\n",
       "      <td>1</td>\n",
       "      <td>200</td>\n",
       "      <td>0.5</td>\n",
       "      <td>GLP</td>\n",
       "    </tr>\n",
       "    <tr>\n",
       "      <th>40</th>\n",
       "      <td>GianvonPlanta(GLP)</td>\n",
       "      <td>1</td>\n",
       "      <td>200</td>\n",
       "      <td>0.5</td>\n",
       "      <td>GLP</td>\n",
       "    </tr>\n",
       "    <tr>\n",
       "      <th>68</th>\n",
       "      <td>MarkusMerki(GLP)</td>\n",
       "      <td>1</td>\n",
       "      <td>200</td>\n",
       "      <td>0.5</td>\n",
       "      <td>GLP</td>\n",
       "    </tr>\n",
       "    <tr>\n",
       "      <th>21</th>\n",
       "      <td>Dr.AnnCatherineNabholz(GLP)</td>\n",
       "      <td>1</td>\n",
       "      <td>200</td>\n",
       "      <td>0.5</td>\n",
       "      <td>GLP</td>\n",
       "    </tr>\n",
       "  </tbody>\n",
       "</table>\n",
       "</div>"
      ],
      "text/plain": [
       "                            name  count  sitzungen  share partei\n",
       "41                GuidoHüni(GLP)     35        200   17.5    GLP\n",
       "2            AdrianGautschi(GLP)     18        200    9.0    GLP\n",
       "73         MartinLuchsinger(GLP)     12        200    6.0    GLP\n",
       "42            GuidoTrevisan(GLP)     11        200    5.5    GLP\n",
       "106              ShaibalRoy(GLP)     11        200    5.5    GLP\n",
       "65            MarkusBaumann(GLP)      8        200    4.0    GLP\n",
       "55           MaleicaLandolt(GLP)      8        200    4.0    GLP\n",
       "100               RonnySiev(GLP)      5        200    2.5    GLP\n",
       "75         MatthiasWiesmann(GLP)      5        200    2.5    GLP\n",
       "104             SamuelDubno(GLP)      4        200    2.0    GLP\n",
       "88              PirminMeyer(GLP)      3        200    1.5    GLP\n",
       "19             CorinaGredig(GLP)      2        200    1.0    GLP\n",
       "43            GuyKrayenbühl(GLP)      1        200    0.5    GLP\n",
       "112          SvenSobernheim(GLP)      1        200    0.5    GLP\n",
       "40            GianvonPlanta(GLP)      1        200    0.5    GLP\n",
       "68              MarkusMerki(GLP)      1        200    0.5    GLP\n",
       "21   Dr.AnnCatherineNabholz(GLP)      1        200    0.5    GLP"
      ]
     },
     "execution_count": 356,
     "metadata": {},
     "output_type": "execute_result"
    }
   ],
   "source": [
    "pd.set_option('display.max_rows', None)\n",
    "df_missings[df_missings['partei']=='GLP']"
   ]
  },
  {
   "cell_type": "code",
   "execution_count": 343,
   "metadata": {},
   "outputs": [],
   "source": [
    "#df_missings.to_csv('missingnames_1418.csv', index=False)"
   ]
  },
  {
   "cell_type": "code",
   "execution_count": 347,
   "metadata": {},
   "outputs": [],
   "source": [
    "df_missings_party = df_missings.groupby('partei').sum().reset_index()\n",
    "df_missings_party = df_missings_party[['partei','count']]"
   ]
  },
  {
   "cell_type": "code",
   "execution_count": 325,
   "metadata": {},
   "outputs": [],
   "source": [
    "df_missings_party.to_csv('absenzen_pro_partei_14_18.csv', index=False)"
   ]
  },
  {
   "cell_type": "code",
   "execution_count": null,
   "metadata": {},
   "outputs": [],
   "source": []
  }
 ],
 "metadata": {
  "kernelspec": {
   "display_name": "Python 3",
   "language": "python",
   "name": "python3"
  },
  "language_info": {
   "codemirror_mode": {
    "name": "ipython",
    "version": 3
   },
   "file_extension": ".py",
   "mimetype": "text/x-python",
   "name": "python",
   "nbconvert_exporter": "python",
   "pygments_lexer": "ipython3",
   "version": "3.7.2"
  }
 },
 "nbformat": 4,
 "nbformat_minor": 2
}
